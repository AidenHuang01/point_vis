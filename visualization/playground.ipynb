{
 "cells": [
  {
   "cell_type": "code",
   "execution_count": 21,
   "metadata": {},
   "outputs": [],
   "source": [
    "import pylab as pl\n",
    "import numpy as np\n",
    "from PIL import Image\n",
    "import pickle\n",
    "import torch"
   ]
  },
  {
   "cell_type": "code",
   "execution_count": 22,
   "metadata": {},
   "outputs": [
    {
     "name": "stdout",
     "output_type": "stream",
     "text": [
      "tensor([0.3760, 0.1327, 0.1275, 0.1244])\n"
     ]
    }
   ],
   "source": [
    "with open('/home/yucheng/storage/data/0814/3D_boxes/0004_pred_dict.pickle', 'rb') as handle:\n",
    "    pred_dict = pickle.load(handle)\n",
    "    box = pred_dict['pred_boxes']\n",
    "    score = pred_dict['pred_scores']\n",
    "    label = pred_dict['pred_labels']\n",
    "print(score)"
   ]
  },
  {
   "cell_type": "code",
   "execution_count": 23,
   "metadata": {},
   "outputs": [
    {
     "data": {
      "text/plain": [
       "tensor([ 1.1955,  4.7185, -0.9389,  4.4923,  1.7010,  1.4219,  4.5534])"
      ]
     },
     "execution_count": 23,
     "metadata": {},
     "output_type": "execute_result"
    }
   ],
   "source": [
    "box[0, :]"
   ]
  },
  {
   "cell_type": "code",
   "execution_count": 24,
   "metadata": {},
   "outputs": [],
   "source": [
    "pseudo_box = torch.tensor([[10, 10, 0.5, 4.5, 4.5, 4.5, 4.5]])\n",
    "with open(\"/home/yucheng/storage/data/0815/pseudo_box.pickle\", 'wb') as handle:\n",
    "    pickle.dump(pseudo_box, handle) "
   ]
  },
  {
   "cell_type": "code",
   "execution_count": null,
   "metadata": {},
   "outputs": [],
   "source": []
  }
 ],
 "metadata": {
  "kernelspec": {
   "display_name": "Python 3.9.7 ('base')",
   "language": "python",
   "name": "python3"
  },
  "language_info": {
   "codemirror_mode": {
    "name": "ipython",
    "version": 3
   },
   "file_extension": ".py",
   "mimetype": "text/x-python",
   "name": "python",
   "nbconvert_exporter": "python",
   "pygments_lexer": "ipython3",
   "version": "3.9.7"
  },
  "orig_nbformat": 4,
  "vscode": {
   "interpreter": {
    "hash": "3a969f3a67217c9d04112b5ad37341c290d832783615fef6bd2dfd1476c8d9b2"
   }
  }
 },
 "nbformat": 4,
 "nbformat_minor": 2
}
