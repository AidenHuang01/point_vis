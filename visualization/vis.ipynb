{
 "cells": [
  {
   "cell_type": "code",
   "execution_count": 36,
   "metadata": {},
   "outputs": [],
   "source": [
    "import torch\n",
    "import pickle\n",
    "import numpy as np"
   ]
  },
  {
   "cell_type": "code",
   "execution_count": 28,
   "metadata": {},
   "outputs": [],
   "source": [
    "with open('points.pickle', 'rb') as handle:\n",
    "    points = pickle.load(handle)\n",
    "with open('box.pickle', 'rb') as handle:\n",
    "    box = pickle.load(handle)"
   ]
  },
  {
   "cell_type": "code",
   "execution_count": 37,
   "metadata": {},
   "outputs": [],
   "source": [
    "with open('pred_dicts0.pickle', 'rb') as handle:\n",
    "    pred_dict = pickle.load(handle)"
   ]
  },
  {
   "cell_type": "code",
   "execution_count": 38,
   "metadata": {},
   "outputs": [
    {
     "data": {
      "text/plain": [
       "dict_keys(['pred_boxes', 'pred_scores', 'pred_labels'])"
      ]
     },
     "execution_count": 38,
     "metadata": {},
     "output_type": "execute_result"
    }
   ],
   "source": [
    "pred_dict.keys()"
   ]
  },
  {
   "cell_type": "code",
   "execution_count": 34,
   "metadata": {},
   "outputs": [
    {
     "data": {
      "text/plain": [
       "tensor([1, 1, 1, 1, 1, 1, 1, 1, 1, 1, 1, 1, 1, 1, 1, 1, 1, 1, 1, 1, 1, 1])"
      ]
     },
     "execution_count": 34,
     "metadata": {},
     "output_type": "execute_result"
    }
   ],
   "source": [
    "pred_dict['pred_labels']"
   ]
  },
  {
   "cell_type": "code",
   "execution_count": 35,
   "metadata": {},
   "outputs": [
    {
     "data": {
      "text/plain": [
       "tensor([0.6139, 0.4585, 0.3431, 0.3146, 0.2737, 0.2608, 0.2360, 0.2321, 0.2233,\n",
       "        0.2134, 0.2090, 0.2034, 0.1535, 0.1509, 0.1429, 0.1281, 0.1267, 0.1105,\n",
       "        0.1083, 0.1040, 0.1035, 0.1000])"
      ]
     },
     "execution_count": 35,
     "metadata": {},
     "output_type": "execute_result"
    }
   ],
   "source": [
    "pred_dict['pred_scores']"
   ]
  },
  {
   "cell_type": "code",
   "execution_count": 33,
   "metadata": {},
   "outputs": [
    {
     "data": {
      "text/plain": [
       "tensor([0.6139, 0.4585, 0.3431, 0.3146, 0.2737, 0.2608, 0.2360, 0.2321, 0.2233,\n",
       "        0.2134, 0.2090, 0.2034, 0.1535, 0.1509, 0.1429, 0.1281, 0.1267, 0.1105,\n",
       "        0.1083, 0.1040, 0.1035, 0.1000])"
      ]
     },
     "execution_count": 33,
     "metadata": {},
     "output_type": "execute_result"
    }
   ],
   "source": [
    "pred_dict['pred_scores']"
   ]
  },
  {
   "cell_type": "code",
   "execution_count": 30,
   "metadata": {},
   "outputs": [
    {
     "data": {
      "text/plain": [
       "array([[-0.      , -0.      ,  0.      ,  0.      ],\n",
       "       [-0.      , -0.      ,  0.      ,  0.      ],\n",
       "       [-0.      ,  0.      ,  0.      ,  0.      ],\n",
       "       ...,\n",
       "       [-1.017862, -0.014363, -0.284604,  0.      ],\n",
       "       [-1.002319,  0.023648, -0.291092,  0.      ],\n",
       "       [-0.      ,  0.      , -0.      ,  0.      ]])"
      ]
     },
     "execution_count": 30,
     "metadata": {},
     "output_type": "execute_result"
    }
   ],
   "source": [
    "original_points = np.load('0038_flip_x.npy')\n",
    "original_points"
   ]
  },
  {
   "cell_type": "code",
   "execution_count": 31,
   "metadata": {},
   "outputs": [
    {
     "data": {
      "text/plain": [
       "tensor([[-0., -0., 0., 0.],\n",
       "        [-0., -0., 0., 0.],\n",
       "        [-0., 0., 0., 0.],\n",
       "        ...,\n",
       "        [-0., 0., -0., 0.],\n",
       "        [-0., -0., -0., 0.],\n",
       "        [-0., 0., -0., 0.]])"
      ]
     },
     "execution_count": 31,
     "metadata": {},
     "output_type": "execute_result"
    }
   ],
   "source": [
    "points"
   ]
  },
  {
   "cell_type": "code",
   "execution_count": 32,
   "metadata": {},
   "outputs": [
    {
     "data": {
      "text/plain": [
       "tensor([[ 1.2031e+01,  1.2332e+01, -2.4059e-01,  4.2214e+00,  1.6851e+00,\n",
       "          1.5094e+00,  2.6132e+00],\n",
       "        [ 4.0784e+01, -8.5878e+00,  4.6468e-01,  3.8367e+00,  1.6026e+00,\n",
       "          1.4607e+00,  2.6140e+00],\n",
       "        [ 2.8868e+01,  2.7534e+00,  5.0707e-01,  4.0162e+00,  1.6076e+00,\n",
       "          1.5282e+00,  1.6533e+00],\n",
       "        [ 4.6299e+01,  6.2338e+00,  8.1870e-01,  4.2639e+00,  1.6388e+00,\n",
       "          1.5250e+00,  1.6065e+00],\n",
       "        [ 3.1360e+01, -1.1791e-01,  5.2009e-01,  3.9506e+00,  1.6822e+00,\n",
       "          1.5831e+00,  2.8671e+00],\n",
       "        [ 2.6353e+01, -2.7161e+01,  2.7408e-01,  4.1263e+00,  1.6747e+00,\n",
       "          1.6123e+00,  5.7913e+00],\n",
       "        [ 2.1549e+01, -2.8780e+01, -1.9644e-01,  3.8173e+00,  1.4608e+00,\n",
       "          1.4021e+00,  2.7826e+00],\n",
       "        [ 1.5247e+01, -4.0475e+01, -5.3947e-02,  3.9479e+00,  1.6202e+00,\n",
       "          1.5303e+00,  2.3432e+00],\n",
       "        [ 1.8428e+01, -3.4142e+01,  8.7303e-03,  4.1846e+00,  1.6629e+00,\n",
       "          1.5222e+00,  1.0314e+00],\n",
       "        [ 1.0114e-02, -7.9853e+00, -7.0355e-01,  3.5222e+00,  1.6130e+00,\n",
       "          1.4993e+00,  1.3817e+00],\n",
       "        [ 5.0674e+01, -1.4606e+01,  1.2690e+00,  4.0690e+00,  1.6297e+00,\n",
       "          1.5937e+00,  2.5398e+00],\n",
       "        [ 6.3665e-01,  4.6160e-01, -5.9027e-01,  4.0277e+00,  1.6368e+00,\n",
       "          1.6110e+00,  1.6943e+00],\n",
       "        [ 4.3061e+01, -1.9957e+01,  5.6575e-01,  4.4603e+00,  1.6619e+00,\n",
       "          1.5756e+00,  1.1852e+00],\n",
       "        [ 5.1471e+01, -4.0810e+01,  6.3641e-01,  3.9304e+00,  1.6237e+00,\n",
       "          1.6440e+00,  5.6964e+00],\n",
       "        [ 2.6347e+01, -3.0667e+01,  3.8692e-01,  4.3525e+00,  1.6767e+00,\n",
       "          1.5293e+00,  4.8613e+00],\n",
       "        [ 1.1439e+00,  3.3504e+01,  5.1870e-01,  4.3985e+00,  1.7017e+00,\n",
       "          1.5789e+00,  4.9596e+00],\n",
       "        [ 1.3148e+01,  2.5728e+01, -3.1493e-03,  3.5945e+00,  1.5408e+00,\n",
       "          1.5106e+00,  4.2247e+00],\n",
       "        [ 1.2586e+01,  2.9624e+01,  2.3119e-01,  3.5630e+00,  1.5779e+00,\n",
       "          1.5172e+00,  5.3261e+00],\n",
       "        [ 1.9985e+01, -3.0375e+01, -3.6123e-02,  3.6929e+00,  1.5323e+00,\n",
       "          1.5595e+00,  2.9149e+00],\n",
       "        [ 2.9750e+01, -1.4332e+00,  4.9913e-01,  4.0418e+00,  1.6396e+00,\n",
       "          1.5481e+00,  2.6627e+00],\n",
       "        [ 3.2446e+01, -3.3482e+01,  7.8469e-01,  4.1126e+00,  1.6693e+00,\n",
       "          1.6218e+00,  5.6570e+00],\n",
       "        [ 7.2926e+00, -4.1108e+01, -4.0037e-01,  4.1234e+00,  1.5718e+00,\n",
       "          1.5030e+00,  2.3719e+00]])"
      ]
     },
     "execution_count": 32,
     "metadata": {},
     "output_type": "execute_result"
    }
   ],
   "source": [
    "box"
   ]
  }
 ],
 "metadata": {
  "interpreter": {
   "hash": "31f2aee4e71d21fbe5cf8b01ff0e069b9275f58929596ceb00d14d90e3e16cd6"
  },
  "kernelspec": {
   "display_name": "Python 3.6.9 64-bit",
   "language": "python",
   "name": "python3"
  },
  "language_info": {
   "codemirror_mode": {
    "name": "ipython",
    "version": 3
   },
   "file_extension": ".py",
   "mimetype": "text/x-python",
   "name": "python",
   "nbconvert_exporter": "python",
   "pygments_lexer": "ipython3",
   "version": "3.9.7"
  },
  "orig_nbformat": 4
 },
 "nbformat": 4,
 "nbformat_minor": 2
}
