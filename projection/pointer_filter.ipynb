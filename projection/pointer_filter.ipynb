{
 "cells": [
  {
   "cell_type": "code",
   "execution_count": 116,
   "metadata": {},
   "outputs": [],
   "source": [
    "import pickle\n",
    "import numpy as np\n",
    "import torch\n",
    "from projection_utils import *"
   ]
  },
  {
   "cell_type": "code",
   "execution_count": 117,
   "metadata": {},
   "outputs": [],
   "source": [
    "SEGEMENTATION_PATH = \"/home/yucheng/storage/data/0801/test_gilman_04/segmentation/0022.pickle\"\n",
    "POINTS_PATH = \"/home/yucheng/storage/data/0801/test_gilman_04/points/0022.npy\""
   ]
  },
  {
   "cell_type": "code",
   "execution_count": 118,
   "metadata": {},
   "outputs": [],
   "source": [
    "points = np.load(POINTS_PATH)\n",
    "with open(SEGEMENTATION_PATH, 'rb') as handle:\n",
    "    pred_dict_3D = pickle.load(handle)\n",
    "    masks = pred_dict_3D[\"masks\"]"
   ]
  },
  {
   "cell_type": "code",
   "execution_count": 119,
   "metadata": {},
   "outputs": [
    {
     "data": {
      "text/plain": [
       "(14, 1080, 1920)"
      ]
     },
     "execution_count": 119,
     "metadata": {},
     "output_type": "execute_result"
    }
   ],
   "source": [
    "masks.shape"
   ]
  },
  {
   "cell_type": "code",
   "execution_count": 120,
   "metadata": {},
   "outputs": [
    {
     "data": {
      "text/plain": [
       "array([ True, False])"
      ]
     },
     "execution_count": 120,
     "metadata": {},
     "output_type": "execute_result"
    }
   ],
   "source": [
    "array1 = np.array([False, False])\n",
    "array2 = np.array([True, False])\n",
    "array3 = np.add(array1, array2)\n",
    "np.add(array2, array3)"
   ]
  },
  {
   "cell_type": "code",
   "execution_count": 121,
   "metadata": {},
   "outputs": [
    {
     "data": {
      "text/plain": [
       "array([[1, 2, 3, 4],\n",
       "       [5, 6, 7, 8]])"
      ]
     },
     "execution_count": 121,
     "metadata": {},
     "output_type": "execute_result"
    }
   ],
   "source": [
    "arr1 = np.array([1,2,3,4])\n",
    "arr2 = np.array([5,6,7,8])\n",
    "np.stack((arr1, arr2))"
   ]
  },
  {
   "cell_type": "code",
   "execution_count": 122,
   "metadata": {},
   "outputs": [
    {
     "name": "stdout",
     "output_type": "stream",
     "text": [
      "[[False False False ... False False False]\n",
      " [False False False ... False False False]\n",
      " [False False False ... False False False]\n",
      " ...\n",
      " [False False False ... False False False]\n",
      " [False False False ... False False False]\n",
      " [False False False ... False False False]]\n"
     ]
    }
   ],
   "source": [
    "print(masks[0])"
   ]
  },
  {
   "cell_type": "code",
   "execution_count": 123,
   "metadata": {},
   "outputs": [],
   "source": [
    "def merge_masks(masks):\n",
    "    num, height, length = masks.shape\n",
    "    merged_mask = np.zeros((height, length))\n",
    "    for mask in masks:\n",
    "        merged_mask = np.add(merged_mask, mask)\n",
    "    return merged_mask"
   ]
  },
  {
   "cell_type": "code",
   "execution_count": 124,
   "metadata": {},
   "outputs": [
    {
     "data": {
      "text/plain": [
       "array([[ 0.841065, -0.045992,  0.251267,  0.      ],\n",
       "       [ 0.861126, -0.01443 ,  0.247121,  0.      ],\n",
       "       [ 0.847056,  0.017447,  0.234163,  0.      ],\n",
       "       ...,\n",
       "       [ 0.      , -0.      , -0.      ,  0.      ],\n",
       "       [ 0.      ,  0.      , -0.      ,  0.      ],\n",
       "       [ 0.      ,  0.      , -0.      ,  0.      ]])"
      ]
     },
     "execution_count": 124,
     "metadata": {},
     "output_type": "execute_result"
    }
   ],
   "source": [
    "mask = merge_masks(masks)\n",
    "points"
   ]
  },
  {
   "cell_type": "code",
   "execution_count": 125,
   "metadata": {},
   "outputs": [
    {
     "name": "stderr",
     "output_type": "stream",
     "text": [
      "/home/yucheng/workspace/WCSNG/point_vis/projection/projection_utils.py:12: RuntimeWarning: invalid value encountered in double_scalars\n",
      "  x = point[0] / point[2]\n",
      "/home/yucheng/workspace/WCSNG/point_vis/projection/projection_utils.py:13: RuntimeWarning: invalid value encountered in double_scalars\n",
      "  y = point[1] / point[2]\n"
     ]
    }
   ],
   "source": [
    "projected_points = lidar2CameraOurs(points[:, [1, 2, 0]])[:,[1,0]]"
   ]
  },
  {
   "cell_type": "code",
   "execution_count": 126,
   "metadata": {},
   "outputs": [
    {
     "name": "stdout",
     "output_type": "stream",
     "text": [
      "(65536, 4)\n",
      "(65536, 2)\n"
     ]
    }
   ],
   "source": [
    "print(points.shape)\n",
    "print(projected_points.shape)\n",
    "potential_points = []\n",
    "for i in range(points.shape[0]):\n",
    "    if np.isnan(points[i]).any() or np.isnan(projected_points[i]).any():\n",
    "        continue\n",
    "    x = int(projected_points[i][0])\n",
    "    y = int(projected_points[i][1])\n",
    "    if x >= 0 and x < mask.shape[0] and y >= 0 and y < mask.shape[1]:\n",
    "        if mask[x][y] != 0:\n",
    "            potential_points.append(points[i])\n",
    "potential_points = tuple(potential_points)\n",
    "filtered_points = np.stack(potential_points)"
   ]
  },
  {
   "cell_type": "code",
   "execution_count": 127,
   "metadata": {},
   "outputs": [
    {
     "data": {
      "text/plain": [
       "(1197, 4)"
      ]
     },
     "execution_count": 127,
     "metadata": {},
     "output_type": "execute_result"
    }
   ],
   "source": [
    "filtered_points.shape"
   ]
  }
 ],
 "metadata": {
  "kernelspec": {
   "display_name": "Python 3.9.7 ('base')",
   "language": "python",
   "name": "python3"
  },
  "language_info": {
   "codemirror_mode": {
    "name": "ipython",
    "version": 3
   },
   "file_extension": ".py",
   "mimetype": "text/x-python",
   "name": "python",
   "nbconvert_exporter": "python",
   "pygments_lexer": "ipython3",
   "version": "3.9.7"
  },
  "orig_nbformat": 4,
  "vscode": {
   "interpreter": {
    "hash": "3a969f3a67217c9d04112b5ad37341c290d832783615fef6bd2dfd1476c8d9b2"
   }
  }
 },
 "nbformat": 4,
 "nbformat_minor": 2
}
