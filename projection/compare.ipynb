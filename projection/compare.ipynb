{
 "cells": [
  {
   "cell_type": "code",
   "execution_count": 17,
   "metadata": {},
   "outputs": [],
   "source": [
    "import torch\n",
    "import pickle\n",
    "import numpy as np\n",
    "from dis import dis\n",
    "from astyx_utils import *\n",
    "import matplotlib.pyplot as plt\n",
    "from PIL import Image"
   ]
  },
  {
   "cell_type": "code",
   "execution_count": 18,
   "metadata": {},
   "outputs": [],
   "source": [
    "data = Astyx_Data()\n",
    "img = data.get_camera(\"000300\")\n",
    "params = data.get_calibration_details()\n",
    "proj = astyx_projection(params)\n",
    "lidar_pc = data.get_lidar(\"000300\")\n",
    "lidar_pc = lidar_pc[lidar_pc[:, 0] > 0]"
   ]
  },
  {
   "cell_type": "code",
   "execution_count": 19,
   "metadata": {},
   "outputs": [
    {
     "name": "stdout",
     "output_type": "stream",
     "text": [
      "10.45696103896104\n",
      "1.427103896103895\n",
      "0.41576994434137293\n"
     ]
    }
   ],
   "source": [
    "print(np.mean(lidar_pc[:,0]))\n",
    "print(np.mean(lidar_pc[:,1]))\n",
    "print(np.mean(lidar_pc[:,2]))"
   ]
  },
  {
   "cell_type": "code",
   "execution_count": 20,
   "metadata": {},
   "outputs": [],
   "source": [
    "with open('0038.npy', 'rb') as handle:\n",
    "    lidar_pc_38 = np.load(handle)\n",
    "lidar_pc_38 = lidar_pc_38[lidar_pc_38[:, 0] > 0]\n",
    "lidar_pc_38[:,1] = -lidar_pc_38[:,1]"
   ]
  },
  {
   "cell_type": "code",
   "execution_count": 21,
   "metadata": {},
   "outputs": [
    {
     "name": "stdout",
     "output_type": "stream",
     "text": [
      "11.27154828569429\n",
      "2.4403969595464736\n",
      "0.24195784345837998\n"
     ]
    }
   ],
   "source": [
    "print(np.mean(lidar_pc_38[:,0]))\n",
    "print(np.mean(lidar_pc_38[:,1]))\n",
    "print(np.mean(lidar_pc_38[:,2]))"
   ]
  }
 ],
 "metadata": {
  "interpreter": {
   "hash": "3a969f3a67217c9d04112b5ad37341c290d832783615fef6bd2dfd1476c8d9b2"
  },
  "kernelspec": {
   "display_name": "Python 3.9.7 ('base')",
   "language": "python",
   "name": "python3"
  },
  "language_info": {
   "codemirror_mode": {
    "name": "ipython",
    "version": 3
   },
   "file_extension": ".py",
   "mimetype": "text/x-python",
   "name": "python",
   "nbconvert_exporter": "python",
   "pygments_lexer": "ipython3",
   "version": "3.9.7"
  },
  "orig_nbformat": 4
 },
 "nbformat": 4,
 "nbformat_minor": 2
}
