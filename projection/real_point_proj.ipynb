{
 "cells": [
  {
   "cell_type": "code",
   "execution_count": 2,
   "metadata": {},
   "outputs": [
    {
     "name": "stdout",
     "output_type": "stream",
     "text": [
      "Jupyter environment detected. Enabling Open3D WebVisualizer.\n",
      "[Open3D INFO] WebRTC GUI backend enabled.\n",
      "[Open3D INFO] WebRTCWindowSystem: HTTP handshake server disabled.\n"
     ]
    }
   ],
   "source": [
    "from projection_utils import *\n",
    "import pickle\n",
    "import matplotlib.pyplot as plt\n",
    "import open3d_vis_utils as V\n",
    "import cv2\n",
    "import torch"
   ]
  },
  {
   "cell_type": "code",
   "execution_count": 4,
   "metadata": {},
   "outputs": [],
   "source": [
    "# img = plt.imread(\"./data/image/0038.png\")\n",
    "# pcd = np.load(\"./data/pcd/0038.npy\")\n",
    "with open(\"/home/yucheng/storage/data/0721/test_gilman_04/3D_boxes/0022_pred_dict.pickle\", 'rb') as handle:\n",
    "    pred_dict_3D = pickle.load(handle)\n",
    "    boxes_3D = pred_dict_3D[\"pred_boxes\"]\n",
    "    scores_3D = pred_dict_3D[\"pred_scores\"]\n",
    "    labels_3D = pred_dict_3D[\"pred_labels\"]\n",
    "with open(\"/home/yucheng/storage/data/0721/test_gilman_04/2D_boxes/0022.pickle\", 'rb') as handle:\n",
    "    pred_dict_2D = pickle.load(handle)\n",
    "    boxes_2D = pred_dict_2D[\"boxes\"]\n",
    "    scores_2D = pred_dict_2D[\"scores\"]\n",
    "    classes_2D = pred_dict_2D[\"classes\"]"
   ]
  },
  {
   "cell_type": "code",
   "execution_count": 147,
   "metadata": {},
   "outputs": [
    {
     "data": {
      "text/plain": [
       "(16, 4)"
      ]
     },
     "execution_count": 147,
     "metadata": {},
     "output_type": "execute_result"
    }
   ],
   "source": [
    "boxes_2D.shape"
   ]
  },
  {
   "cell_type": "code",
   "execution_count": 137,
   "metadata": {},
   "outputs": [],
   "source": [
    "# plt.imshow(img)\n",
    "# plt.plot(940.09527588, 507.89971924, \"og\", markersize=10)"
   ]
  },
  {
   "cell_type": "code",
   "execution_count": 138,
   "metadata": {},
   "outputs": [
    {
     "data": {
      "text/plain": [
       "tensor([[  7.9887, -17.9153,  -1.0042,   4.2182,   1.5796,   1.4595,   1.2924],\n",
       "        [ 27.3248,   0.4442,  -0.3229,   3.2550,   1.4848,   1.3936,   1.3822],\n",
       "        [ 17.6848,  -3.7154,  -0.2038,   4.3339,   1.6955,   1.6678,   6.8623],\n",
       "        [ 29.1832,  11.9179,   0.5341,   4.1505,   1.5900,   1.4922,   1.4832],\n",
       "        [ 21.8391,  27.3562,   1.1259,   4.0992,   1.6435,   1.5865,   2.2673],\n",
       "        [ 40.2132,  13.0596,   1.1435,   4.0038,   1.6017,   1.5062,   6.5921]])"
      ]
     },
     "execution_count": 138,
     "metadata": {},
     "output_type": "execute_result"
    }
   ],
   "source": [
    "boxes_3D[4:5]\n",
    "boxes_3D[:6]"
   ]
  },
  {
   "cell_type": "code",
   "execution_count": 139,
   "metadata": {},
   "outputs": [],
   "source": [
    "# V.draw_scenes(pcd, ref_boxes=boxes_3D[4:5])"
   ]
  },
  {
   "cell_type": "code",
   "execution_count": 140,
   "metadata": {},
   "outputs": [
    {
     "name": "stdout",
     "output_type": "stream",
     "text": [
      "0\n",
      "[967.77728271 547.14215088]\n",
      "[654.72460938 546.73614502]\n",
      "[1510.12207031  505.52807617]\n",
      "[1394.46496582  491.52404785]\n",
      "[1578.04516602  497.46630859]\n",
      "[1201.17138672  520.57336426]\n",
      "[1726.27416992  495.20947266]\n",
      "[1193.06860352  510.14208984]\n",
      "[1750.01708984  496.71749878]\n",
      "[1525.40185547  496.07479858]\n",
      "[163.66461182 552.42584229]\n",
      "[222.70812988 540.60345459]\n",
      "[1324.80065918  507.29699707]\n",
      "[119.8949585  551.79626465]\n",
      "[1757.80517578  510.58828735]\n",
      "[1479.42358398  494.17611694]\n",
      "torch.Size([31, 7])\n",
      "16\n"
     ]
    }
   ],
   "source": [
    "box_1 = boxes_3D\n",
    "boxes_projected = lidar2CameraOurs(box_1[:, [1, 2, 0]])\n",
    "boxes_in_frame = 0\n",
    "for box in boxes_projected:\n",
    "    if box[0] < 1920 and box[0] >= 0 and box[1] < 1080 and box[1] >= 0:\n",
    "        boxes_in_frame += 1\n",
    "        print(box)\n",
    "print(boxes_3D.shape)\n",
    "print(boxes_in_frame)  \n"
   ]
  },
  {
   "cell_type": "code",
   "execution_count": 141,
   "metadata": {},
   "outputs": [
    {
     "name": "stdout",
     "output_type": "stream",
     "text": [
      "0.6875\n"
     ]
    }
   ],
   "source": [
    "detected = detect_inlier(boxes_2D, boxes_projected[:,[1,0]])\n",
    "detected_num = sum(detected)\n",
    "detected_ratio = detected_num / boxes_in_frame\n",
    "print(detected_ratio)"
   ]
  },
  {
   "cell_type": "code",
   "execution_count": 5,
   "metadata": {},
   "outputs": [
    {
     "name": "stdout",
     "output_type": "stream",
     "text": [
      "[tensor([27.3248,  0.4442, -0.3229,  3.2550,  1.4848,  1.3936,  1.3822]), tensor([17.6848, -3.7154, -0.2038,  4.3339,  1.6955,  1.6678,  6.8623]), tensor([29.1832, 11.9179,  0.5341,  4.1505,  1.5900,  1.4922,  1.4832])]\n"
     ]
    }
   ],
   "source": [
    "import pickle\n",
    "with open(\"/home/yucheng/storage/data/0721/test_gilman_04/3D_boxes_filtered/0022.pickle\", 'rb') as handle:\n",
    "    pred_dict_3D = pickle.load(handle)\n",
    "    boxes_3D = pred_dict_3D[\"pred_boxes\"]\n",
    "    scores_3D = pred_dict_3D[\"pred_scores\"]\n",
    "    labels_3D = pred_dict_3D[\"pred_labels\"]\n",
    "pcd = np.load(\"/home/yucheng/storage/data/0721/test_gilman_04/points/0022.npy\")\n",
    "print(boxes_3D)"
   ]
  },
  {
   "cell_type": "code",
   "execution_count": null,
   "metadata": {},
   "outputs": [],
   "source": [
    "# print(scores_3D)"
   ]
  },
  {
   "cell_type": "code",
   "execution_count": 6,
   "metadata": {},
   "outputs": [
    {
     "data": {
      "text/plain": [
       "tensor([[27.3248,  0.4442, -0.3229,  3.2550,  1.4848,  1.3936,  1.3822]])"
      ]
     },
     "execution_count": 6,
     "metadata": {},
     "output_type": "execute_result"
    }
   ],
   "source": [
    "# V.draw_scenes(pcd, ref_boxes=boxes_3D)\n",
    "a = boxes_3D[0]\n",
    "a = a[None,:]\n",
    "a"
   ]
  },
  {
   "cell_type": "code",
   "execution_count": 14,
   "metadata": {},
   "outputs": [],
   "source": [
    "a = boxes_3D[0][None,:]\n",
    "for i in range(1, len(boxes_3D)):\n",
    "    b = boxes_3D[i][None,:]\n",
    "    a = torch.cat([a,b], dim=0)\n",
    "a\n",
    "boxes = a\n",
    "boxes = boxes[:-1]"
   ]
  },
  {
   "cell_type": "code",
   "execution_count": 15,
   "metadata": {},
   "outputs": [
    {
     "ename": "KeyboardInterrupt",
     "evalue": "",
     "output_type": "error",
     "traceback": [
      "\u001b[0;31m---------------------------------------------------------------------------\u001b[0m",
      "\u001b[0;31mKeyboardInterrupt\u001b[0m                         Traceback (most recent call last)",
      "\u001b[0;32m/tmp/ipykernel_507/2692531029.py\u001b[0m in \u001b[0;36m<module>\u001b[0;34m\u001b[0m\n\u001b[0;32m----> 1\u001b[0;31m \u001b[0mV\u001b[0m\u001b[0;34m.\u001b[0m\u001b[0mdraw_scenes\u001b[0m\u001b[0;34m(\u001b[0m\u001b[0mpcd\u001b[0m\u001b[0;34m,\u001b[0m \u001b[0mref_boxes\u001b[0m\u001b[0;34m=\u001b[0m\u001b[0mboxes\u001b[0m\u001b[0;34m)\u001b[0m\u001b[0;34m\u001b[0m\u001b[0;34m\u001b[0m\u001b[0m\n\u001b[0m",
      "\u001b[0;32m~/workspace/WCSNG/point_vis/projection/open3d_vis_utils.py\u001b[0m in \u001b[0;36mdraw_scenes\u001b[0;34m(points, gt_boxes, ref_boxes, ref_labels, ref_scores, point_colors, draw_origin)\u001b[0m\n\u001b[1;32m     70\u001b[0m         \u001b[0mvis\u001b[0m \u001b[0;34m=\u001b[0m \u001b[0mdraw_box\u001b[0m\u001b[0;34m(\u001b[0m\u001b[0mvis\u001b[0m\u001b[0;34m,\u001b[0m \u001b[0mref_boxes\u001b[0m\u001b[0;34m,\u001b[0m \u001b[0;34m(\u001b[0m\u001b[0;36m0\u001b[0m\u001b[0;34m,\u001b[0m \u001b[0;36m1\u001b[0m\u001b[0;34m,\u001b[0m \u001b[0;36m0\u001b[0m\u001b[0;34m)\u001b[0m\u001b[0;34m,\u001b[0m \u001b[0mref_labels\u001b[0m\u001b[0;34m,\u001b[0m \u001b[0mref_scores\u001b[0m\u001b[0;34m)\u001b[0m\u001b[0;34m\u001b[0m\u001b[0;34m\u001b[0m\u001b[0m\n\u001b[1;32m     71\u001b[0m \u001b[0;34m\u001b[0m\u001b[0m\n\u001b[0;32m---> 72\u001b[0;31m     \u001b[0mvis\u001b[0m\u001b[0;34m.\u001b[0m\u001b[0mrun\u001b[0m\u001b[0;34m(\u001b[0m\u001b[0;34m)\u001b[0m\u001b[0;34m\u001b[0m\u001b[0;34m\u001b[0m\u001b[0m\n\u001b[0m\u001b[1;32m     73\u001b[0m     \u001b[0mvis\u001b[0m\u001b[0;34m.\u001b[0m\u001b[0mdestroy_window\u001b[0m\u001b[0;34m(\u001b[0m\u001b[0;34m)\u001b[0m\u001b[0;34m\u001b[0m\u001b[0;34m\u001b[0m\u001b[0m\n\u001b[1;32m     74\u001b[0m \u001b[0;34m\u001b[0m\u001b[0m\n",
      "\u001b[0;31mKeyboardInterrupt\u001b[0m: "
     ]
    },
    {
     "ename": "",
     "evalue": "",
     "output_type": "error",
     "traceback": [
      "\u001b[1;31mThe Kernel crashed while executing code in the the current cell or a previous cell. Please review the code in the cell(s) to identify a possible cause of the failure. Click <a href='https://aka.ms/vscodeJupyterKernelCrash'>here</a> for more info. View Jupyter <a href='command:jupyter.viewOutput'>log</a> for further details."
     ]
    }
   ],
   "source": [
    "V.draw_scenes(pcd, ref_boxes=boxes)"
   ]
  }
 ],
 "metadata": {
  "interpreter": {
   "hash": "3a969f3a67217c9d04112b5ad37341c290d832783615fef6bd2dfd1476c8d9b2"
  },
  "kernelspec": {
   "display_name": "Python 3.9.7 ('base')",
   "language": "python",
   "name": "python3"
  },
  "language_info": {
   "codemirror_mode": {
    "name": "ipython",
    "version": 3
   },
   "file_extension": ".py",
   "mimetype": "text/x-python",
   "name": "python",
   "nbconvert_exporter": "python",
   "pygments_lexer": "ipython3",
   "version": "3.9.7"
  },
  "orig_nbformat": 4
 },
 "nbformat": 4,
 "nbformat_minor": 2
}
