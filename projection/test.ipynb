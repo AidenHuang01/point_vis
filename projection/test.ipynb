{
 "cells": [
  {
   "cell_type": "code",
   "execution_count": 1,
   "metadata": {},
   "outputs": [],
   "source": [
    "# import necessary libs\n",
    "import torch\n",
    "import pickle\n",
    "import numpy as np\n",
    "from dis import dis\n",
    "from astyx_utils import *\n",
    "import matplotlib.pyplot as plt\n",
    "from PIL import Image"
   ]
  },
  {
   "cell_type": "code",
   "execution_count": 2,
   "metadata": {},
   "outputs": [],
   "source": [
    "# Define constants\n",
    "DATA_DIR = \"./data/\"\n",
    "IMAGE_DIR = DATA_DIR + \"image/\"\n",
    "PCD_DIR = DATA_DIR + \"pcd/\"\n",
    "BOX2D_DIR = DATA_DIR + \"box2d/\"\n",
    "BOX3D_DIR = DATA_DIR + \"box3d/\"\n",
    "PRED_DICT_2D_DIR = DATA_DIR + \"pred_dict_2D/\"\n",
    "PRED_DICT_3D_DIR = DATA_DIR + \"pred_dict_3D/\""
   ]
  },
  {
   "cell_type": "code",
   "execution_count": 3,
   "metadata": {},
   "outputs": [],
   "source": [
    "# Getting filename for image, pcd, box2d and box3d\n",
    "file_list_image=os.listdir(IMAGE_DIR)\n",
    "file_list_no_ex = [x.split('.')[0] for x in file_list_image]\n",
    "file_list_pcd = [x+\".npy\" for x in file_list_no_ex]\n",
    "file_list_box2d = [x+\"_box2d.pickle\" for x in file_list_no_ex]\n",
    "file_list_box3d = [x+\"_box3d.pickle\" for x in file_list_no_ex]"
   ]
  },
  {
   "cell_type": "code",
   "execution_count": 4,
   "metadata": {},
   "outputs": [],
   "source": [
    "# Read images from camera\n",
    "image_list = []\n",
    "for path in file_list_image:\n",
    "    img = plt.imread(IMAGE_DIR + path)\n",
    "    image_list.append(img)\n",
    "images = np.array(image_list)"
   ]
  },
  {
   "cell_type": "code",
   "execution_count": 5,
   "metadata": {},
   "outputs": [],
   "source": [
    "# Read pcd from lidar\n",
    "pcd_list = []\n",
    "for path in file_list_pcd:\n",
    "    pcd = np.load(PCD_DIR + path)\n",
    "    pcd_list.append(pcd)\n",
    "pcds = np.array(pcd_list)"
   ]
  },
  {
   "cell_type": "code",
   "execution_count": 6,
   "metadata": {},
   "outputs": [],
   "source": [
    "# Read 2d boxes from Detectron\n",
    "# box2d_list = []\n",
    "# for path in file_list_box2d:\n",
    "#     with open(BOX2D_DIR + path, 'rb') as handle:\n",
    "#         box2d = pickle.load(handle)\n",
    "#         box2d_list.append(box2d.numpy())\n",
    "# boxes2d = np.array(box2d_list)\n",
    "# boxes2d"
   ]
  },
  {
   "cell_type": "code",
   "execution_count": 7,
   "metadata": {},
   "outputs": [],
   "source": [
    "# Read 3d boxes center from OpenPCDet with pointpillar\n",
    "# box3d_list = []\n",
    "# for path in file_list_box3d:\n",
    "#     with open(BOX3D_DIR + path, 'rb') as handle:\n",
    "#         box3d = pickle.load(handle)\n",
    "#         box3d_list.append(box3d.numpy()[:,:3])\n",
    "# boxes3d = np.array(box3d_list)"
   ]
  },
  {
   "cell_type": "code",
   "execution_count": 8,
   "metadata": {},
   "outputs": [],
   "source": [
    "# boxes3d_to_img = []\n",
    "# for frame in boxes3d:\n",
    "#     frame_list = lidar2CameraOurs(frame[:, [1, 2, 0]])\n",
    "#     boxes3d_to_img.append(frame_list)"
   ]
  },
  {
   "cell_type": "code",
   "execution_count": 9,
   "metadata": {},
   "outputs": [],
   "source": [
    "def detect_inlier(boxes2d, boxes3d):\n",
    "    \"\"\"\n",
    "    Detect from the 3D boudning boexes if they are inside the 2D bounding boxes\n",
    "    Args:\n",
    "    boxes2d : np.array of shape [n, 4]\n",
    "              boxes2d element [x1, y1, x2, y2]\n",
    "              x1 -------- y1\n",
    "               |          |\n",
    "               |          |\n",
    "               |          |\n",
    "              x2 -------- y2\n",
    "    boxes3d : np.array of shape [m, 2]\n",
    "              boxes3d element [x, y, z]\n",
    "    Return:\n",
    "    list : [boolean] indicating if 3d boxes are inliers\n",
    "    \"\"\"\n",
    "    result = []\n",
    "    for box3d in boxes3d:\n",
    "        inlier = False\n",
    "        for box2d in boxes2d:\n",
    "            if box3d[0] >= box2d[0] and box3d[0] <= box2d[2] and\\\n",
    "               box3d[1] >= box2d[1] and box3d[1] <= box2d[3]:\n",
    "               inlier = True\n",
    "        result.append(inlier)\n",
    "    return result"
   ]
  },
  {
   "cell_type": "code",
   "execution_count": 10,
   "metadata": {},
   "outputs": [],
   "source": [
    "# sum(detect_inlier(boxes2d[0], boxes3d_to_img[0]))"
   ]
  },
  {
   "cell_type": "code",
   "execution_count": 11,
   "metadata": {},
   "outputs": [],
   "source": [
    "for file in file_list_no_ex:\n",
    "    pred_dict_2D_path = PRED_DICT_2D_DIR + file + \"_pred_dict_2D.pickle\"\n",
    "    pred_dict_3D_path = PRED_DICT_3D_DIR + file + \"_pred_dict.pickle\"\n",
    "    with open(pred_dict_2D_path, 'rb') as handle:\n",
    "        pred_dict_2D = pickle.load(handle)\n",
    "        boxes_2D = pred_dict_2D[\"boxes\"]\n",
    "        scores_2D = pred_dict_2D[\"scores\"]\n",
    "        classes_2D = pred_dict_2D[\"classes\"]\n",
    "    with open(pred_dict_3D_path, 'rb') as handle:\n",
    "        pred_dict_3D = pickle.load(handle)\n",
    "        boxes_3D = pred_dict_3D[\"pred_boxes\"]\n",
    "        scores_3D = pred_dict_3D[\"pred_scores\"]\n",
    "        labels_3D = pred_dict_3D[\"pred_labels\"]\n",
    "    boxes_3D_filtered = []\n",
    "    scores_3D_filtered = []\n",
    "    labels_3D_filtered = []\n",
    "    boxes_3D_to_img = lidar2CameraOurs(boxes_3D[:, [1, 2, 0]])\n",
    "    result = detect_inlier(boxes_2D, boxes_3D_to_img)\n",
    "    pred_dict_3D_filtered = {}\n",
    "    for i in range(len(result)):\n",
    "        if result[i]:\n",
    "            boxes_3D_filtered.append(boxes_3D[i])\n",
    "            scores_3D_filtered.append(scores_3D[i])\n",
    "            labels_3D_filtered.append(labels_3D[i])\n",
    "    pred_dict_3D_filtered[\"pred_boxes\"] = boxes_3D_filtered\n",
    "    pred_dict_3D_filtered[\"pred_scores\"] = scores_3D_filtered\n",
    "    pred_dict_3D_filtered[\"pred_labels\"] = labels_3D_filtered\n",
    "    output_file_name = \"./outputs/\" + file + \"_pred_dict_filtered.pickle\"\n",
    "    with open(output_file_name, 'wb') as handle:\n",
    "        pickle.dump(pred_dict_3D_filtered, handle)\n"
   ]
  },
  {
   "cell_type": "code",
   "execution_count": 12,
   "metadata": {},
   "outputs": [
    {
     "name": "stdout",
     "output_type": "stream",
     "text": [
      "{'pred_boxes': [tensor([40.7637,  8.7568,  0.2561,  3.9804,  1.5785,  1.4473,  5.7127]), tensor([50.4835, 14.3476,  1.2112,  4.0322,  1.6215,  1.5583,  5.6357])], 'pred_scores': [tensor(0.4060), tensor(0.2736)], 'pred_labels': [tensor(1), tensor(1)]}\n"
     ]
    }
   ],
   "source": [
    "print(pred_dict_3D_filtered)"
   ]
  },
  {
   "cell_type": "code",
   "execution_count": null,
   "metadata": {},
   "outputs": [],
   "source": [
    "# experiment space\n"
   ]
  }
 ],
 "metadata": {
  "interpreter": {
   "hash": "3a969f3a67217c9d04112b5ad37341c290d832783615fef6bd2dfd1476c8d9b2"
  },
  "kernelspec": {
   "display_name": "Python 3.9.7 ('base')",
   "language": "python",
   "name": "python3"
  },
  "language_info": {
   "codemirror_mode": {
    "name": "ipython",
    "version": 3
   },
   "file_extension": ".py",
   "mimetype": "text/x-python",
   "name": "python",
   "nbconvert_exporter": "python",
   "pygments_lexer": "ipython3",
   "version": "3.9.7"
  },
  "orig_nbformat": 4
 },
 "nbformat": 4,
 "nbformat_minor": 2
}
