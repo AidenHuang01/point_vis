{
 "cells": [
  {
   "cell_type": "code",
   "execution_count": 103,
   "metadata": {},
   "outputs": [],
   "source": [
    "# import necessary libs\n",
    "import torch\n",
    "import pickle\n",
    "import numpy as np\n",
    "from dis import dis\n",
    "from astyx_utils import *\n",
    "import matplotlib.pyplot as plt\n",
    "from PIL import Image"
   ]
  },
  {
   "cell_type": "code",
   "execution_count": 104,
   "metadata": {},
   "outputs": [],
   "source": [
    "# Define constants\n",
    "DATA_DIR = \"./data/\"\n",
    "IMAGE_DIR = DATA_DIR + \"image/\"\n",
    "PCD_DIR = DATA_DIR + \"pcd/\"\n",
    "BOX2D_DIR = DATA_DIR + \"box2d/\"\n",
    "BOX3D_DIR = DATA_DIR + \"box3d/\""
   ]
  },
  {
   "cell_type": "code",
   "execution_count": 105,
   "metadata": {},
   "outputs": [],
   "source": [
    "# Getting filename for image, pcd, box2d and box3d\n",
    "file_list_image=os.listdir(IMAGE_DIR)\n",
    "file_list_no_ex = [x.split('.')[0] for x in file_list_image]\n",
    "file_list_pcd = [x+\".npy\" for x in file_list_no_ex]\n",
    "file_list_box2d = [x+\"_box2d.pickle\" for x in file_list_no_ex]\n",
    "file_list_box3d = [x+\"_box3d.pickle\" for x in file_list_no_ex]"
   ]
  },
  {
   "cell_type": "code",
   "execution_count": 106,
   "metadata": {},
   "outputs": [],
   "source": [
    "# Read images from camera\n",
    "image_list = []\n",
    "for path in file_list_image:\n",
    "    img = plt.imread(IMAGE_DIR + path)\n",
    "    image_list.append(img)\n",
    "images = np.array(image_list)"
   ]
  },
  {
   "cell_type": "code",
   "execution_count": 107,
   "metadata": {},
   "outputs": [],
   "source": [
    "# Read pcd from lidar\n",
    "pcd_list = []\n",
    "for path in file_list_pcd:\n",
    "    pcd = np.load(PCD_DIR + path)\n",
    "    pcd_list.append(pcd)\n",
    "pcds = np.array(pcd_list)"
   ]
  },
  {
   "cell_type": "code",
   "execution_count": 108,
   "metadata": {},
   "outputs": [
    {
     "data": {
      "text/plain": [
       "array([[[ 601.7733 ,  499.3728 ,  672.74225,  535.5947 ],\n",
       "        [ 249.68852,  494.4106 ,  298.2574 ,  526.0343 ],\n",
       "        [ 904.0054 ,  472.43103, 1078.1804 ,  561.80304]]], dtype=float32)"
      ]
     },
     "execution_count": 108,
     "metadata": {},
     "output_type": "execute_result"
    }
   ],
   "source": [
    "# Read 2d boxes from Detectron\n",
    "box2d_list = []\n",
    "for path in file_list_box2d:\n",
    "    with open(BOX2D_DIR + path, 'rb') as handle:\n",
    "        box2d = pickle.load(handle)\n",
    "        box2d_list.append(box2d.numpy())\n",
    "boxes2d = np.array(box2d_list)\n",
    "boxes2d"
   ]
  },
  {
   "cell_type": "code",
   "execution_count": 109,
   "metadata": {},
   "outputs": [],
   "source": [
    "# Read 3d boxes center from OpenPCDet with pointpillar\n",
    "box3d_list = []\n",
    "for path in file_list_box3d:\n",
    "    with open(BOX3D_DIR + path, 'rb') as handle:\n",
    "        box3d = pickle.load(handle)\n",
    "        box3d_list.append(box3d.numpy()[:,:3])\n",
    "boxes3d = np.array(box3d_list)"
   ]
  },
  {
   "cell_type": "code",
   "execution_count": 110,
   "metadata": {},
   "outputs": [],
   "source": [
    "boxes3d_to_img = []\n",
    "for frame in boxes3d:\n",
    "    frame_list = lidar2CameraOurs(frame[:, [1, 2, 0]])\n",
    "    boxes3d_to_img.append(frame_list)"
   ]
  },
  {
   "cell_type": "code",
   "execution_count": 111,
   "metadata": {},
   "outputs": [],
   "source": [
    "def detect_inlier(boxes2d, boxes3d):\n",
    "    \"\"\"\n",
    "    Detect from the 3D boudning boexes if they are inside the 2D bounding boxes\n",
    "    Args:\n",
    "    boxes2d : np.array of shape [n, 4]\n",
    "              boxes2d element [x1, y1, x2, y2]\n",
    "              x1 -------- y1\n",
    "               |          |\n",
    "               |          |\n",
    "               |          |\n",
    "              x2 -------- y2\n",
    "    boxes3d : np.array of shape [m, 2]\n",
    "              boxes3d element [x, y, z]\n",
    "    Return:\n",
    "    list : [boolean] indicating if 3d boxes are inliers\n",
    "    \"\"\"\n",
    "    result = []\n",
    "    for box3d in boxes3d:\n",
    "        inlier = False\n",
    "        for box2d in boxes2d:\n",
    "            if box3d[0] >= box2d[0] and box3d[0] <= box2d[2] and\\\n",
    "               box3d[1] >= box2d[1] and box3d[1] <= box2d[3]:\n",
    "               inlier = True\n",
    "        result.append(inlier)\n",
    "    return result"
   ]
  },
  {
   "cell_type": "code",
   "execution_count": 112,
   "metadata": {},
   "outputs": [
    {
     "data": {
      "text/plain": [
       "tensor([[ 601.7733,  499.3728,  672.7422,  535.5947],\n",
       "        [ 249.6885,  494.4106,  298.2574,  526.0343],\n",
       "        [ 904.0054,  472.4310, 1078.1804,  561.8030]])"
      ]
     },
     "execution_count": 112,
     "metadata": {},
     "output_type": "execute_result"
    }
   ],
   "source": [
    "box2d"
   ]
  },
  {
   "cell_type": "code",
   "execution_count": 115,
   "metadata": {},
   "outputs": [
    {
     "data": {
      "text/plain": [
       "3"
      ]
     },
     "execution_count": 115,
     "metadata": {},
     "output_type": "execute_result"
    }
   ],
   "source": [
    "sum(detect_inlier(boxes2d[0], boxes3d_to_img[0]))"
   ]
  }
 ],
 "metadata": {
  "interpreter": {
   "hash": "3a969f3a67217c9d04112b5ad37341c290d832783615fef6bd2dfd1476c8d9b2"
  },
  "kernelspec": {
   "display_name": "Python 3.9.7 ('base')",
   "language": "python",
   "name": "python3"
  },
  "language_info": {
   "codemirror_mode": {
    "name": "ipython",
    "version": 3
   },
   "file_extension": ".py",
   "mimetype": "text/x-python",
   "name": "python",
   "nbconvert_exporter": "python",
   "pygments_lexer": "ipython3",
   "version": "3.9.7"
  },
  "orig_nbformat": 4
 },
 "nbformat": 4,
 "nbformat_minor": 2
}
