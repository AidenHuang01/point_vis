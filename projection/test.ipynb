{
 "cells": [
  {
   "cell_type": "code",
   "execution_count": 42,
   "metadata": {},
   "outputs": [],
   "source": [
    "# import necessary libs\n",
    "import torch\n",
    "import pickle\n",
    "import numpy as np\n",
    "from dis import dis\n",
    "from astyx_utils import *\n",
    "import matplotlib.pyplot as plt\n",
    "from PIL import Image"
   ]
  },
  {
   "cell_type": "code",
   "execution_count": 43,
   "metadata": {},
   "outputs": [],
   "source": [
    "# Define constants\n",
    "DATA_DIR = \"./data/\"\n",
    "IMAGE_DIR = DATA_DIR + \"image/\"\n",
    "PCD_DIR = DATA_DIR + \"pcd/\"\n",
    "BOX2D_DIR = DATA_DIR + \"box2d/\"\n",
    "BOX3D_DIR = DATA_DIR + \"box3d/\"\n",
    "PRED_DICT_2D_DIR = DATA_DIR + \"pred_dict_2D/\"\n",
    "PRED_DICT_3D_DIR = DATA_DIR + \"pred_dict_3D/\""
   ]
  },
  {
   "cell_type": "code",
   "execution_count": 44,
   "metadata": {},
   "outputs": [],
   "source": [
    "# Getting filename for image, pcd, box2d and box3d\n",
    "file_list_image=os.listdir(IMAGE_DIR)\n",
    "file_list_no_ex = [x.split('.')[0] for x in file_list_image]\n",
    "file_list_pcd = [x+\".npy\" for x in file_list_no_ex]\n",
    "file_list_box2d = [x+\"_box2d.pickle\" for x in file_list_no_ex]\n",
    "file_list_box3d = [x+\"_box3d.pickle\" for x in file_list_no_ex]"
   ]
  },
  {
   "cell_type": "code",
   "execution_count": 45,
   "metadata": {},
   "outputs": [],
   "source": [
    "# Read images from camera\n",
    "image_list = []\n",
    "for path in file_list_image:\n",
    "    img = plt.imread(IMAGE_DIR + path)\n",
    "    image_list.append(img)\n",
    "images = np.array(image_list)"
   ]
  },
  {
   "cell_type": "code",
   "execution_count": 46,
   "metadata": {},
   "outputs": [],
   "source": [
    "# Read pcd from lidar\n",
    "pcd_list = []\n",
    "for path in file_list_pcd:\n",
    "    pcd = np.load(PCD_DIR + path)\n",
    "    pcd_list.append(pcd)\n",
    "pcds = np.array(pcd_list)"
   ]
  },
  {
   "cell_type": "code",
   "execution_count": 47,
   "metadata": {},
   "outputs": [],
   "source": [
    "# Read 2d boxes from Detectron\n",
    "# box2d_list = []\n",
    "# for path in file_list_box2d:\n",
    "#     with open(BOX2D_DIR + path, 'rb') as handle:\n",
    "#         box2d = pickle.load(handle)\n",
    "#         box2d_list.append(box2d.numpy())\n",
    "# boxes2d = np.array(box2d_list)\n",
    "# boxes2d"
   ]
  },
  {
   "cell_type": "code",
   "execution_count": 48,
   "metadata": {},
   "outputs": [],
   "source": [
    "# Read 3d boxes center from OpenPCDet with pointpillar\n",
    "# box3d_list = []\n",
    "# for path in file_list_box3d:\n",
    "#     with open(BOX3D_DIR + path, 'rb') as handle:\n",
    "#         box3d = pickle.load(handle)\n",
    "#         box3d_list.append(box3d.numpy()[:,:3])\n",
    "# boxes3d = np.array(box3d_list)"
   ]
  },
  {
   "cell_type": "code",
   "execution_count": 49,
   "metadata": {},
   "outputs": [],
   "source": [
    "# boxes3d_to_img = []\n",
    "# for frame in boxes3d:\n",
    "#     frame_list = lidar2CameraOurs(frame[:, [1, 2, 0]])\n",
    "#     boxes3d_to_img.append(frame_list)"
   ]
  },
  {
   "cell_type": "code",
   "execution_count": 50,
   "metadata": {},
   "outputs": [],
   "source": [
    "def detect_inlier(boxes2d, boxes3d):\n",
    "    \"\"\"\n",
    "    Detect from the 3D boudning boexes if they are inside the 2D bounding boxes\n",
    "    Args:\n",
    "    boxes2d : np.array of shape [n, 4]\n",
    "              boxes2d element [y1, x1, y2, x2]\n",
    "              (x1,y1)-------\n",
    "                |          |\n",
    "                |          |\n",
    "                |          |\n",
    "                --------(x2,y2)\n",
    "    boxes3d : np.array of shape [m, 2]\n",
    "              boxes3d element [x, y, z]\n",
    "    Return:\n",
    "    list : [boolean] indicating if 3d boxes are inliers\n",
    "    \"\"\"\n",
    "    result = []\n",
    "    for box3d in boxes3d:\n",
    "        inlier = False\n",
    "        for box2d_raw in boxes2d:\n",
    "            box2d = box2d_raw[[1,0,3,2]]\n",
    "            if box3d[0] >= box2d[0] and box3d[0] <= box2d[2] and\\\n",
    "               box3d[1] >= box2d[1] and box3d[1] <= box2d[3]:\n",
    "               inlier = True\n",
    "        result.append(inlier)\n",
    "    return result"
   ]
  },
  {
   "cell_type": "code",
   "execution_count": 51,
   "metadata": {},
   "outputs": [],
   "source": [
    "# sum(detect_inlier(boxes2d[0], boxes3d_to_img[0]))"
   ]
  },
  {
   "cell_type": "code",
   "execution_count": 58,
   "metadata": {},
   "outputs": [],
   "source": [
    "for file in file_list_no_ex:\n",
    "    pred_dict_2D_path = PRED_DICT_2D_DIR + file + \"_pred_dict_2D.pickle\"\n",
    "    pred_dict_3D_path = PRED_DICT_3D_DIR + file + \"_pred_dict.pickle\"\n",
    "    with open(pred_dict_2D_path, 'rb') as handle:\n",
    "        pred_dict_2D = pickle.load(handle)\n",
    "        boxes_2D = pred_dict_2D[\"boxes\"]\n",
    "        scores_2D = pred_dict_2D[\"scores\"]\n",
    "        classes_2D = pred_dict_2D[\"classes\"]\n",
    "    with open(pred_dict_3D_path, 'rb') as handle:\n",
    "        pred_dict_3D = pickle.load(handle)\n",
    "        boxes_3D = pred_dict_3D[\"pred_boxes\"]\n",
    "        scores_3D = pred_dict_3D[\"pred_scores\"]\n",
    "        labels_3D = pred_dict_3D[\"pred_labels\"]\n",
    "    boxes_3D_filtered = []\n",
    "    scores_3D_filtered = []\n",
    "    labels_3D_filtered = []\n",
    "    boxes_3D_to_img = lidar2CameraOurs(boxes_3D[:, [1, 2, 0]])\n",
    "    boxes_3D_to_img = boxes_3D_to_img[:,[1,0]]\n",
    "    result = detect_inlier(boxes_2D, boxes_3D_to_img)\n",
    "    pred_dict_3D_filtered = {}\n",
    "    for i in range(len(result)):\n",
    "        if result[i]:\n",
    "            if scores_3D[i] > 0.2:\n",
    "                boxes_3D_filtered.append(boxes_3D[i])\n",
    "                scores_3D_filtered.append(scores_3D[i])\n",
    "                labels_3D_filtered.append(labels_3D[i])\n",
    "        elif scores_3D[i] > 0.5:\n",
    "                boxes_3D_filtered.append(boxes_3D[i])\n",
    "                scores_3D_filtered.append(scores_3D[i])\n",
    "                labels_3D_filtered.append(labels_3D[i])\n",
    "    pred_dict_3D_filtered[\"pred_boxes\"] = boxes_3D_filtered\n",
    "    pred_dict_3D_filtered[\"pred_scores\"] = scores_3D_filtered\n",
    "    pred_dict_3D_filtered[\"pred_labels\"] = labels_3D_filtered\n",
    "    output_file_name = \"./outputs/\" + file + \"_pred_dict_filtered.pickle\"\n",
    "    with open(output_file_name, 'wb') as handle:\n",
    "        pickle.dump(pred_dict_3D_filtered, handle)\n"
   ]
  },
  {
   "cell_type": "code",
   "execution_count": 53,
   "metadata": {},
   "outputs": [
    {
     "name": "stdout",
     "output_type": "stream",
     "text": [
      "{'pred_boxes': [tensor([22.4676,  5.6409,  0.2507,  4.4106,  1.7534,  1.5599,  2.5399]), tensor([49.9992, -7.6712,  0.7731,  4.2005,  1.6797,  1.5968,  2.5414]), tensor([28.9171, -3.3993,  0.2875,  4.0055,  1.6275,  1.4736,  1.6085])], 'pred_scores': [tensor(0.4220), tensor(0.1190), tensor(0.1043)], 'pred_labels': [tensor(1), tensor(1), tensor(1)]}\n"
     ]
    }
   ],
   "source": [
    "print(pred_dict_3D_filtered)"
   ]
  },
  {
   "cell_type": "code",
   "execution_count": 54,
   "metadata": {},
   "outputs": [],
   "source": [
    "# experiment space\n",
    "from cProfile import label\n",
    "import numpy as np\n",
    "from torch import tensor\n",
    "import open3d\n",
    "import pickle\n",
    "import open3d_vis_utils as V\n"
   ]
  },
  {
   "cell_type": "code",
   "execution_count": 55,
   "metadata": {},
   "outputs": [
    {
     "name": "stdout",
     "output_type": "stream",
     "text": [
      "tensor([[12.0305, 12.3317, -0.2406,  4.2214,  1.6851,  1.5094,  2.6132],\n",
      "        [40.7842, -8.5878,  0.4647,  3.8367,  1.6026,  1.4607,  2.6140],\n",
      "        [28.8681,  2.7534,  0.5071,  4.0162,  1.6076,  1.5282,  1.6533],\n",
      "        [46.2989,  6.2338,  0.8187,  4.2639,  1.6388,  1.5250,  1.6065],\n",
      "        [31.3598, -0.1179,  0.5201,  3.9506,  1.6822,  1.5831,  2.8671]])\n",
      "[[ 601.7733   499.3728   672.74225  535.5947 ]\n",
      " [ 249.68852  494.4106   298.2574   526.0343 ]\n",
      " [ 904.0054   472.43103 1078.1804   561.80304]]\n",
      "[[ 558.44561768 2363.00048828]\n",
      " [ 515.07202148  654.06481934]\n",
      " [ 506.54492188 1077.21374512]\n",
      " [ 506.38220215 1131.51623535]\n",
      " [ 507.89971924  940.09527588]]\n",
      "[False, True, True, False, True]\n"
     ]
    }
   ],
   "source": [
    "data = np.load('./data/pcd/0038.npy')\n",
    "img = plt.imread('./data/image/0038.png')\n",
    "with open('./data/pred_dict_3D/0038_pred_dict.pickle', 'rb') as handle:\n",
    "    pred_dict = pickle.load(handle)\n",
    "box = pred_dict['pred_boxes']\n",
    "score = pred_dict['pred_scores']\n",
    "label = pred_dict['pred_labels']\n",
    "\n",
    "with open(\"./data/pred_dict_2D/0038_pred_dict_2D.pickle\", 'rb') as handle:\n",
    "        pred_dict_2D = pickle.load(handle)\n",
    "        boxes_2D = pred_dict_2D[\"boxes\"]\n",
    "        scores_2D = pred_dict_2D[\"scores\"]\n",
    "        classes_2D = pred_dict_2D[\"classes\"]\n",
    "\n",
    "select = 5\n",
    "\n",
    "if select != 0:\n",
    "    box = box[:select,:]\n",
    "    score = score[:select]\n",
    "    label = label[:select]\n",
    "\n",
    "print(box)\n",
    "\n",
    "boxes_3D_to_img = lidar2CameraOurs(box[:, [1, 2, 0]])\n",
    "boxes_3D_to_img = boxes_3D_to_img[:,[1,0]] \n",
    "print(boxes_2D)\n",
    "print(boxes_3D_to_img)\n",
    "result = detect_inlier(boxes_2D, boxes_3D_to_img)\n",
    "print(result)"
   ]
  },
  {
   "cell_type": "code",
   "execution_count": 56,
   "metadata": {},
   "outputs": [],
   "source": [
    "V.draw_scenes(data, ref_boxes=box)"
   ]
  }
 ],
 "metadata": {
  "interpreter": {
   "hash": "3a969f3a67217c9d04112b5ad37341c290d832783615fef6bd2dfd1476c8d9b2"
  },
  "kernelspec": {
   "display_name": "Python 3.9.7 ('base')",
   "language": "python",
   "name": "python3"
  },
  "language_info": {
   "codemirror_mode": {
    "name": "ipython",
    "version": 3
   },
   "file_extension": ".py",
   "mimetype": "text/x-python",
   "name": "python",
   "nbconvert_exporter": "python",
   "pygments_lexer": "ipython3",
   "version": "3.9.7"
  },
  "orig_nbformat": 4
 },
 "nbformat": 4,
 "nbformat_minor": 2
}
